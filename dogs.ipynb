{
 "cells": [
  {
   "cell_type": "code",
   "execution_count": 2,
   "metadata": {},
   "outputs": [
    {
     "name": "stderr",
     "output_type": "stream",
     "text": [
      "Using TensorFlow backend.\n"
     ]
    },
    {
     "ename": "ModuleNotFoundError",
     "evalue": "No module named 'tensorflow'",
     "output_type": "error",
     "traceback": [
      "\u001b[1;31m---------------------------------------------------------------------------\u001b[0m",
      "\u001b[1;31mModuleNotFoundError\u001b[0m                       Traceback (most recent call last)",
      "\u001b[1;32m<ipython-input-2-34d641ec3e95>\u001b[0m in \u001b[0;36m<module>\u001b[1;34m\u001b[0m\n\u001b[1;32m----> 1\u001b[1;33m \u001b[1;32mimport\u001b[0m \u001b[0mkeras\u001b[0m \u001b[1;32mas\u001b[0m \u001b[0mkr\u001b[0m\u001b[1;33m\u001b[0m\u001b[1;33m\u001b[0m\u001b[0m\n\u001b[0m",
      "\u001b[1;32m~\\Ana\\lib\\site-packages\\keras\\__init__.py\u001b[0m in \u001b[0;36m<module>\u001b[1;34m\u001b[0m\n\u001b[0;32m      1\u001b[0m \u001b[1;32mfrom\u001b[0m \u001b[0m__future__\u001b[0m \u001b[1;32mimport\u001b[0m \u001b[0mabsolute_import\u001b[0m\u001b[1;33m\u001b[0m\u001b[1;33m\u001b[0m\u001b[0m\n\u001b[0;32m      2\u001b[0m \u001b[1;33m\u001b[0m\u001b[0m\n\u001b[1;32m----> 3\u001b[1;33m \u001b[1;32mfrom\u001b[0m \u001b[1;33m.\u001b[0m \u001b[1;32mimport\u001b[0m \u001b[0mutils\u001b[0m\u001b[1;33m\u001b[0m\u001b[1;33m\u001b[0m\u001b[0m\n\u001b[0m\u001b[0;32m      4\u001b[0m \u001b[1;32mfrom\u001b[0m \u001b[1;33m.\u001b[0m \u001b[1;32mimport\u001b[0m \u001b[0mactivations\u001b[0m\u001b[1;33m\u001b[0m\u001b[1;33m\u001b[0m\u001b[0m\n\u001b[0;32m      5\u001b[0m \u001b[1;32mfrom\u001b[0m \u001b[1;33m.\u001b[0m \u001b[1;32mimport\u001b[0m \u001b[0mapplications\u001b[0m\u001b[1;33m\u001b[0m\u001b[1;33m\u001b[0m\u001b[0m\n",
      "\u001b[1;32m~\\Ana\\lib\\site-packages\\keras\\utils\\__init__.py\u001b[0m in \u001b[0;36m<module>\u001b[1;34m\u001b[0m\n\u001b[0;32m      4\u001b[0m \u001b[1;32mfrom\u001b[0m \u001b[1;33m.\u001b[0m \u001b[1;32mimport\u001b[0m \u001b[0mdata_utils\u001b[0m\u001b[1;33m\u001b[0m\u001b[1;33m\u001b[0m\u001b[0m\n\u001b[0;32m      5\u001b[0m \u001b[1;32mfrom\u001b[0m \u001b[1;33m.\u001b[0m \u001b[1;32mimport\u001b[0m \u001b[0mio_utils\u001b[0m\u001b[1;33m\u001b[0m\u001b[1;33m\u001b[0m\u001b[0m\n\u001b[1;32m----> 6\u001b[1;33m \u001b[1;32mfrom\u001b[0m \u001b[1;33m.\u001b[0m \u001b[1;32mimport\u001b[0m \u001b[0mconv_utils\u001b[0m\u001b[1;33m\u001b[0m\u001b[1;33m\u001b[0m\u001b[0m\n\u001b[0m\u001b[0;32m      7\u001b[0m \u001b[1;32mfrom\u001b[0m \u001b[1;33m.\u001b[0m \u001b[1;32mimport\u001b[0m \u001b[0mlosses_utils\u001b[0m\u001b[1;33m\u001b[0m\u001b[1;33m\u001b[0m\u001b[0m\n\u001b[0;32m      8\u001b[0m \u001b[1;32mfrom\u001b[0m \u001b[1;33m.\u001b[0m \u001b[1;32mimport\u001b[0m \u001b[0mmetrics_utils\u001b[0m\u001b[1;33m\u001b[0m\u001b[1;33m\u001b[0m\u001b[0m\n",
      "\u001b[1;32m~\\Ana\\lib\\site-packages\\keras\\utils\\conv_utils.py\u001b[0m in \u001b[0;36m<module>\u001b[1;34m\u001b[0m\n\u001b[0;32m      7\u001b[0m \u001b[1;32mfrom\u001b[0m \u001b[0msix\u001b[0m\u001b[1;33m.\u001b[0m\u001b[0mmoves\u001b[0m \u001b[1;32mimport\u001b[0m \u001b[0mrange\u001b[0m\u001b[1;33m\u001b[0m\u001b[1;33m\u001b[0m\u001b[0m\n\u001b[0;32m      8\u001b[0m \u001b[1;32mimport\u001b[0m \u001b[0mnumpy\u001b[0m \u001b[1;32mas\u001b[0m \u001b[0mnp\u001b[0m\u001b[1;33m\u001b[0m\u001b[1;33m\u001b[0m\u001b[0m\n\u001b[1;32m----> 9\u001b[1;33m \u001b[1;32mfrom\u001b[0m \u001b[1;33m.\u001b[0m\u001b[1;33m.\u001b[0m \u001b[1;32mimport\u001b[0m \u001b[0mbackend\u001b[0m \u001b[1;32mas\u001b[0m \u001b[0mK\u001b[0m\u001b[1;33m\u001b[0m\u001b[1;33m\u001b[0m\u001b[0m\n\u001b[0m\u001b[0;32m     10\u001b[0m \u001b[1;33m\u001b[0m\u001b[0m\n\u001b[0;32m     11\u001b[0m \u001b[1;33m\u001b[0m\u001b[0m\n",
      "\u001b[1;32m~\\Ana\\lib\\site-packages\\keras\\backend\\__init__.py\u001b[0m in \u001b[0;36m<module>\u001b[1;34m\u001b[0m\n\u001b[1;32m----> 1\u001b[1;33m \u001b[1;32mfrom\u001b[0m \u001b[1;33m.\u001b[0m\u001b[0mload_backend\u001b[0m \u001b[1;32mimport\u001b[0m \u001b[0mepsilon\u001b[0m\u001b[1;33m\u001b[0m\u001b[1;33m\u001b[0m\u001b[0m\n\u001b[0m\u001b[0;32m      2\u001b[0m \u001b[1;32mfrom\u001b[0m \u001b[1;33m.\u001b[0m\u001b[0mload_backend\u001b[0m \u001b[1;32mimport\u001b[0m \u001b[0mset_epsilon\u001b[0m\u001b[1;33m\u001b[0m\u001b[1;33m\u001b[0m\u001b[0m\n\u001b[0;32m      3\u001b[0m \u001b[1;32mfrom\u001b[0m \u001b[1;33m.\u001b[0m\u001b[0mload_backend\u001b[0m \u001b[1;32mimport\u001b[0m \u001b[0mfloatx\u001b[0m\u001b[1;33m\u001b[0m\u001b[1;33m\u001b[0m\u001b[0m\n\u001b[0;32m      4\u001b[0m \u001b[1;32mfrom\u001b[0m \u001b[1;33m.\u001b[0m\u001b[0mload_backend\u001b[0m \u001b[1;32mimport\u001b[0m \u001b[0mset_floatx\u001b[0m\u001b[1;33m\u001b[0m\u001b[1;33m\u001b[0m\u001b[0m\n\u001b[0;32m      5\u001b[0m \u001b[1;32mfrom\u001b[0m \u001b[1;33m.\u001b[0m\u001b[0mload_backend\u001b[0m \u001b[1;32mimport\u001b[0m \u001b[0mcast_to_floatx\u001b[0m\u001b[1;33m\u001b[0m\u001b[1;33m\u001b[0m\u001b[0m\n",
      "\u001b[1;32m~\\Ana\\lib\\site-packages\\keras\\backend\\load_backend.py\u001b[0m in \u001b[0;36m<module>\u001b[1;34m\u001b[0m\n\u001b[0;32m     88\u001b[0m \u001b[1;32melif\u001b[0m \u001b[0m_BACKEND\u001b[0m \u001b[1;33m==\u001b[0m \u001b[1;34m'tensorflow'\u001b[0m\u001b[1;33m:\u001b[0m\u001b[1;33m\u001b[0m\u001b[1;33m\u001b[0m\u001b[0m\n\u001b[0;32m     89\u001b[0m     \u001b[0msys\u001b[0m\u001b[1;33m.\u001b[0m\u001b[0mstderr\u001b[0m\u001b[1;33m.\u001b[0m\u001b[0mwrite\u001b[0m\u001b[1;33m(\u001b[0m\u001b[1;34m'Using TensorFlow backend.\\n'\u001b[0m\u001b[1;33m)\u001b[0m\u001b[1;33m\u001b[0m\u001b[1;33m\u001b[0m\u001b[0m\n\u001b[1;32m---> 90\u001b[1;33m     \u001b[1;32mfrom\u001b[0m \u001b[1;33m.\u001b[0m\u001b[0mtensorflow_backend\u001b[0m \u001b[1;32mimport\u001b[0m \u001b[1;33m*\u001b[0m\u001b[1;33m\u001b[0m\u001b[1;33m\u001b[0m\u001b[0m\n\u001b[0m\u001b[0;32m     91\u001b[0m \u001b[1;32melse\u001b[0m\u001b[1;33m:\u001b[0m\u001b[1;33m\u001b[0m\u001b[1;33m\u001b[0m\u001b[0m\n\u001b[0;32m     92\u001b[0m     \u001b[1;31m# Try and load external backend.\u001b[0m\u001b[1;33m\u001b[0m\u001b[1;33m\u001b[0m\u001b[1;33m\u001b[0m\u001b[0m\n",
      "\u001b[1;32m~\\Ana\\lib\\site-packages\\keras\\backend\\tensorflow_backend.py\u001b[0m in \u001b[0;36m<module>\u001b[1;34m\u001b[0m\n\u001b[0;32m      3\u001b[0m \u001b[1;32mfrom\u001b[0m \u001b[0m__future__\u001b[0m \u001b[1;32mimport\u001b[0m \u001b[0mprint_function\u001b[0m\u001b[1;33m\u001b[0m\u001b[1;33m\u001b[0m\u001b[0m\n\u001b[0;32m      4\u001b[0m \u001b[1;33m\u001b[0m\u001b[0m\n\u001b[1;32m----> 5\u001b[1;33m \u001b[1;32mimport\u001b[0m \u001b[0mtensorflow\u001b[0m \u001b[1;32mas\u001b[0m \u001b[0mtf\u001b[0m\u001b[1;33m\u001b[0m\u001b[1;33m\u001b[0m\u001b[0m\n\u001b[0m\u001b[0;32m      6\u001b[0m \u001b[1;32mfrom\u001b[0m \u001b[0mtensorflow\u001b[0m\u001b[1;33m.\u001b[0m\u001b[0mpython\u001b[0m\u001b[1;33m.\u001b[0m\u001b[0meager\u001b[0m \u001b[1;32mimport\u001b[0m \u001b[0mcontext\u001b[0m\u001b[1;33m\u001b[0m\u001b[1;33m\u001b[0m\u001b[0m\n\u001b[0;32m      7\u001b[0m \u001b[1;32mfrom\u001b[0m \u001b[0mtensorflow\u001b[0m\u001b[1;33m.\u001b[0m\u001b[0mpython\u001b[0m\u001b[1;33m.\u001b[0m\u001b[0mframework\u001b[0m \u001b[1;32mimport\u001b[0m \u001b[0mdevice\u001b[0m \u001b[1;32mas\u001b[0m \u001b[0mtfdev\u001b[0m\u001b[1;33m\u001b[0m\u001b[1;33m\u001b[0m\u001b[0m\n",
      "\u001b[1;31mModuleNotFoundError\u001b[0m: No module named 'tensorflow'"
     ]
    }
   ],
   "source": [
    "import keras as kr"
   ]
  },
  {
   "cell_type": "code",
   "execution_count": 7,
   "metadata": {},
   "outputs": [],
   "source": [
    "import pandas as pd"
   ]
  },
  {
   "cell_type": "code",
   "execution_count": 12,
   "metadata": {},
   "outputs": [],
   "source": [
    "df = pd.read_csv(\"dogs.csv\")"
   ]
  },
  {
   "cell_type": "code",
   "execution_count": 13,
   "metadata": {},
   "outputs": [
    {
     "data": {
      "text/html": [
       "<div>\n",
       "<style scoped>\n",
       "    .dataframe tbody tr th:only-of-type {\n",
       "        vertical-align: middle;\n",
       "    }\n",
       "\n",
       "    .dataframe tbody tr th {\n",
       "        vertical-align: top;\n",
       "    }\n",
       "\n",
       "    .dataframe thead th {\n",
       "        text-align: right;\n",
       "    }\n",
       "</style>\n",
       "<table border=\"1\" class=\"dataframe\">\n",
       "  <thead>\n",
       "    <tr style=\"text-align: right;\">\n",
       "      <th></th>\n",
       "      <th>pure</th>\n",
       "      <th>age</th>\n",
       "      <th>weight</th>\n",
       "      <th>height</th>\n",
       "      <th>lifespan</th>\n",
       "    </tr>\n",
       "  </thead>\n",
       "  <tbody>\n",
       "    <tr>\n",
       "      <td>0</td>\n",
       "      <td>True</td>\n",
       "      <td>3</td>\n",
       "      <td>7.94</td>\n",
       "      <td>49.6</td>\n",
       "      <td>15</td>\n",
       "    </tr>\n",
       "    <tr>\n",
       "      <td>1</td>\n",
       "      <td>True</td>\n",
       "      <td>7</td>\n",
       "      <td>5.05</td>\n",
       "      <td>63.5</td>\n",
       "      <td>17</td>\n",
       "    </tr>\n",
       "    <tr>\n",
       "      <td>2</td>\n",
       "      <td>True</td>\n",
       "      <td>6</td>\n",
       "      <td>16.15</td>\n",
       "      <td>68.2</td>\n",
       "      <td>11</td>\n",
       "    </tr>\n",
       "    <tr>\n",
       "      <td>3</td>\n",
       "      <td>False</td>\n",
       "      <td>3</td>\n",
       "      <td>15.50</td>\n",
       "      <td>64.7</td>\n",
       "      <td>12</td>\n",
       "    </tr>\n",
       "    <tr>\n",
       "      <td>4</td>\n",
       "      <td>False</td>\n",
       "      <td>3</td>\n",
       "      <td>12.17</td>\n",
       "      <td>59.7</td>\n",
       "      <td>14</td>\n",
       "    </tr>\n",
       "    <tr>\n",
       "      <td>...</td>\n",
       "      <td>...</td>\n",
       "      <td>...</td>\n",
       "      <td>...</td>\n",
       "      <td>...</td>\n",
       "      <td>...</td>\n",
       "    </tr>\n",
       "    <tr>\n",
       "      <td>95</td>\n",
       "      <td>False</td>\n",
       "      <td>4</td>\n",
       "      <td>20.76</td>\n",
       "      <td>52.2</td>\n",
       "      <td>10</td>\n",
       "    </tr>\n",
       "    <tr>\n",
       "      <td>96</td>\n",
       "      <td>False</td>\n",
       "      <td>4</td>\n",
       "      <td>17.40</td>\n",
       "      <td>47.5</td>\n",
       "      <td>11</td>\n",
       "    </tr>\n",
       "    <tr>\n",
       "      <td>97</td>\n",
       "      <td>False</td>\n",
       "      <td>6</td>\n",
       "      <td>15.60</td>\n",
       "      <td>51.4</td>\n",
       "      <td>12</td>\n",
       "    </tr>\n",
       "    <tr>\n",
       "      <td>98</td>\n",
       "      <td>False</td>\n",
       "      <td>3</td>\n",
       "      <td>8.37</td>\n",
       "      <td>54.1</td>\n",
       "      <td>16</td>\n",
       "    </tr>\n",
       "    <tr>\n",
       "      <td>99</td>\n",
       "      <td>True</td>\n",
       "      <td>7</td>\n",
       "      <td>9.09</td>\n",
       "      <td>50.3</td>\n",
       "      <td>14</td>\n",
       "    </tr>\n",
       "  </tbody>\n",
       "</table>\n",
       "<p>100 rows × 5 columns</p>\n",
       "</div>"
      ],
      "text/plain": [
       "     pure  age  weight  height  lifespan\n",
       "0    True    3    7.94    49.6        15\n",
       "1    True    7    5.05    63.5        17\n",
       "2    True    6   16.15    68.2        11\n",
       "3   False    3   15.50    64.7        12\n",
       "4   False    3   12.17    59.7        14\n",
       "..    ...  ...     ...     ...       ...\n",
       "95  False    4   20.76    52.2        10\n",
       "96  False    4   17.40    47.5        11\n",
       "97  False    6   15.60    51.4        12\n",
       "98  False    3    8.37    54.1        16\n",
       "99   True    7    9.09    50.3        14\n",
       "\n",
       "[100 rows x 5 columns]"
      ]
     },
     "execution_count": 13,
     "metadata": {},
     "output_type": "execute_result"
    }
   ],
   "source": [
    "df"
   ]
  },
  {
   "cell_type": "code",
   "execution_count": 14,
   "metadata": {},
   "outputs": [],
   "source": [
    "import numpy as np"
   ]
  },
  {
   "cell_type": "code",
   "execution_count": 15,
   "metadata": {},
   "outputs": [
    {
     "data": {
      "text/html": [
       "<div>\n",
       "<style scoped>\n",
       "    .dataframe tbody tr th:only-of-type {\n",
       "        vertical-align: middle;\n",
       "    }\n",
       "\n",
       "    .dataframe tbody tr th {\n",
       "        vertical-align: top;\n",
       "    }\n",
       "\n",
       "    .dataframe thead th {\n",
       "        text-align: right;\n",
       "    }\n",
       "</style>\n",
       "<table border=\"1\" class=\"dataframe\">\n",
       "  <thead>\n",
       "    <tr style=\"text-align: right;\">\n",
       "      <th></th>\n",
       "      <th>pure</th>\n",
       "      <th>age</th>\n",
       "      <th>weight</th>\n",
       "      <th>height</th>\n",
       "      <th>lifespan</th>\n",
       "      <th>ispure</th>\n",
       "      <th>isnotpure</th>\n",
       "    </tr>\n",
       "  </thead>\n",
       "  <tbody>\n",
       "    <tr>\n",
       "      <td>0</td>\n",
       "      <td>True</td>\n",
       "      <td>3</td>\n",
       "      <td>7.94</td>\n",
       "      <td>49.6</td>\n",
       "      <td>15</td>\n",
       "      <td>1</td>\n",
       "      <td>0</td>\n",
       "    </tr>\n",
       "    <tr>\n",
       "      <td>1</td>\n",
       "      <td>True</td>\n",
       "      <td>7</td>\n",
       "      <td>5.05</td>\n",
       "      <td>63.5</td>\n",
       "      <td>17</td>\n",
       "      <td>1</td>\n",
       "      <td>0</td>\n",
       "    </tr>\n",
       "    <tr>\n",
       "      <td>2</td>\n",
       "      <td>True</td>\n",
       "      <td>6</td>\n",
       "      <td>16.15</td>\n",
       "      <td>68.2</td>\n",
       "      <td>11</td>\n",
       "      <td>1</td>\n",
       "      <td>0</td>\n",
       "    </tr>\n",
       "    <tr>\n",
       "      <td>3</td>\n",
       "      <td>False</td>\n",
       "      <td>3</td>\n",
       "      <td>15.50</td>\n",
       "      <td>64.7</td>\n",
       "      <td>12</td>\n",
       "      <td>0</td>\n",
       "      <td>1</td>\n",
       "    </tr>\n",
       "    <tr>\n",
       "      <td>4</td>\n",
       "      <td>False</td>\n",
       "      <td>3</td>\n",
       "      <td>12.17</td>\n",
       "      <td>59.7</td>\n",
       "      <td>14</td>\n",
       "      <td>0</td>\n",
       "      <td>1</td>\n",
       "    </tr>\n",
       "    <tr>\n",
       "      <td>...</td>\n",
       "      <td>...</td>\n",
       "      <td>...</td>\n",
       "      <td>...</td>\n",
       "      <td>...</td>\n",
       "      <td>...</td>\n",
       "      <td>...</td>\n",
       "      <td>...</td>\n",
       "    </tr>\n",
       "    <tr>\n",
       "      <td>95</td>\n",
       "      <td>False</td>\n",
       "      <td>4</td>\n",
       "      <td>20.76</td>\n",
       "      <td>52.2</td>\n",
       "      <td>10</td>\n",
       "      <td>0</td>\n",
       "      <td>1</td>\n",
       "    </tr>\n",
       "    <tr>\n",
       "      <td>96</td>\n",
       "      <td>False</td>\n",
       "      <td>4</td>\n",
       "      <td>17.40</td>\n",
       "      <td>47.5</td>\n",
       "      <td>11</td>\n",
       "      <td>0</td>\n",
       "      <td>1</td>\n",
       "    </tr>\n",
       "    <tr>\n",
       "      <td>97</td>\n",
       "      <td>False</td>\n",
       "      <td>6</td>\n",
       "      <td>15.60</td>\n",
       "      <td>51.4</td>\n",
       "      <td>12</td>\n",
       "      <td>0</td>\n",
       "      <td>1</td>\n",
       "    </tr>\n",
       "    <tr>\n",
       "      <td>98</td>\n",
       "      <td>False</td>\n",
       "      <td>3</td>\n",
       "      <td>8.37</td>\n",
       "      <td>54.1</td>\n",
       "      <td>16</td>\n",
       "      <td>0</td>\n",
       "      <td>1</td>\n",
       "    </tr>\n",
       "    <tr>\n",
       "      <td>99</td>\n",
       "      <td>True</td>\n",
       "      <td>7</td>\n",
       "      <td>9.09</td>\n",
       "      <td>50.3</td>\n",
       "      <td>14</td>\n",
       "      <td>1</td>\n",
       "      <td>0</td>\n",
       "    </tr>\n",
       "  </tbody>\n",
       "</table>\n",
       "<p>100 rows × 7 columns</p>\n",
       "</div>"
      ],
      "text/plain": [
       "     pure  age  weight  height  lifespan  ispure  isnotpure\n",
       "0    True    3    7.94    49.6        15       1          0\n",
       "1    True    7    5.05    63.5        17       1          0\n",
       "2    True    6   16.15    68.2        11       1          0\n",
       "3   False    3   15.50    64.7        12       0          1\n",
       "4   False    3   12.17    59.7        14       0          1\n",
       "..    ...  ...     ...     ...       ...     ...        ...\n",
       "95  False    4   20.76    52.2        10       0          1\n",
       "96  False    4   17.40    47.5        11       0          1\n",
       "97  False    6   15.60    51.4        12       0          1\n",
       "98  False    3    8.37    54.1        16       0          1\n",
       "99   True    7    9.09    50.3        14       1          0\n",
       "\n",
       "[100 rows x 7 columns]"
      ]
     },
     "execution_count": 15,
     "metadata": {},
     "output_type": "execute_result"
    }
   ],
   "source": [
    "df['ispure'] = (df['pure']==True).astype(np.int)\n",
    "df['isnotpure'] = (df['pure']==False).astype(np.int)\n",
    "df"
   ]
  },
  {
   "cell_type": "code",
   "execution_count": 16,
   "metadata": {},
   "outputs": [
    {
     "data": {
      "text/html": [
       "<div>\n",
       "<style scoped>\n",
       "    .dataframe tbody tr th:only-of-type {\n",
       "        vertical-align: middle;\n",
       "    }\n",
       "\n",
       "    .dataframe tbody tr th {\n",
       "        vertical-align: top;\n",
       "    }\n",
       "\n",
       "    .dataframe thead th {\n",
       "        text-align: right;\n",
       "    }\n",
       "</style>\n",
       "<table border=\"1\" class=\"dataframe\">\n",
       "  <thead>\n",
       "    <tr style=\"text-align: right;\">\n",
       "      <th></th>\n",
       "      <th>age</th>\n",
       "      <th>weight</th>\n",
       "      <th>height</th>\n",
       "      <th>ispure</th>\n",
       "      <th>isnotpure</th>\n",
       "    </tr>\n",
       "  </thead>\n",
       "  <tbody>\n",
       "    <tr>\n",
       "      <td>0</td>\n",
       "      <td>3</td>\n",
       "      <td>7.94</td>\n",
       "      <td>49.6</td>\n",
       "      <td>1</td>\n",
       "      <td>0</td>\n",
       "    </tr>\n",
       "    <tr>\n",
       "      <td>1</td>\n",
       "      <td>7</td>\n",
       "      <td>5.05</td>\n",
       "      <td>63.5</td>\n",
       "      <td>1</td>\n",
       "      <td>0</td>\n",
       "    </tr>\n",
       "    <tr>\n",
       "      <td>2</td>\n",
       "      <td>6</td>\n",
       "      <td>16.15</td>\n",
       "      <td>68.2</td>\n",
       "      <td>1</td>\n",
       "      <td>0</td>\n",
       "    </tr>\n",
       "    <tr>\n",
       "      <td>3</td>\n",
       "      <td>3</td>\n",
       "      <td>15.50</td>\n",
       "      <td>64.7</td>\n",
       "      <td>0</td>\n",
       "      <td>1</td>\n",
       "    </tr>\n",
       "    <tr>\n",
       "      <td>4</td>\n",
       "      <td>3</td>\n",
       "      <td>12.17</td>\n",
       "      <td>59.7</td>\n",
       "      <td>0</td>\n",
       "      <td>1</td>\n",
       "    </tr>\n",
       "    <tr>\n",
       "      <td>...</td>\n",
       "      <td>...</td>\n",
       "      <td>...</td>\n",
       "      <td>...</td>\n",
       "      <td>...</td>\n",
       "      <td>...</td>\n",
       "    </tr>\n",
       "    <tr>\n",
       "      <td>95</td>\n",
       "      <td>4</td>\n",
       "      <td>20.76</td>\n",
       "      <td>52.2</td>\n",
       "      <td>0</td>\n",
       "      <td>1</td>\n",
       "    </tr>\n",
       "    <tr>\n",
       "      <td>96</td>\n",
       "      <td>4</td>\n",
       "      <td>17.40</td>\n",
       "      <td>47.5</td>\n",
       "      <td>0</td>\n",
       "      <td>1</td>\n",
       "    </tr>\n",
       "    <tr>\n",
       "      <td>97</td>\n",
       "      <td>6</td>\n",
       "      <td>15.60</td>\n",
       "      <td>51.4</td>\n",
       "      <td>0</td>\n",
       "      <td>1</td>\n",
       "    </tr>\n",
       "    <tr>\n",
       "      <td>98</td>\n",
       "      <td>3</td>\n",
       "      <td>8.37</td>\n",
       "      <td>54.1</td>\n",
       "      <td>0</td>\n",
       "      <td>1</td>\n",
       "    </tr>\n",
       "    <tr>\n",
       "      <td>99</td>\n",
       "      <td>7</td>\n",
       "      <td>9.09</td>\n",
       "      <td>50.3</td>\n",
       "      <td>1</td>\n",
       "      <td>0</td>\n",
       "    </tr>\n",
       "  </tbody>\n",
       "</table>\n",
       "<p>100 rows × 5 columns</p>\n",
       "</div>"
      ],
      "text/plain": [
       "    age  weight  height  ispure  isnotpure\n",
       "0     3    7.94    49.6       1          0\n",
       "1     7    5.05    63.5       1          0\n",
       "2     6   16.15    68.2       1          0\n",
       "3     3   15.50    64.7       0          1\n",
       "4     3   12.17    59.7       0          1\n",
       "..  ...     ...     ...     ...        ...\n",
       "95    4   20.76    52.2       0          1\n",
       "96    4   17.40    47.5       0          1\n",
       "97    6   15.60    51.4       0          1\n",
       "98    3    8.37    54.1       0          1\n",
       "99    7    9.09    50.3       1          0\n",
       "\n",
       "[100 rows x 5 columns]"
      ]
     },
     "execution_count": 16,
     "metadata": {},
     "output_type": "execute_result"
    }
   ],
   "source": [
    "inputs = df[['age', 'weight', 'height', 'ispure', 'isnotpure']]\n",
    "inputs"
   ]
  },
  {
   "cell_type": "code",
   "execution_count": 17,
   "metadata": {},
   "outputs": [
    {
     "data": {
      "text/plain": [
       "0     15\n",
       "1     17\n",
       "2     11\n",
       "3     12\n",
       "4     14\n",
       "      ..\n",
       "95    10\n",
       "96    11\n",
       "97    12\n",
       "98    16\n",
       "99    14\n",
       "Name: lifespan, Length: 100, dtype: int64"
      ]
     },
     "execution_count": 17,
     "metadata": {},
     "output_type": "execute_result"
    }
   ],
   "source": [
    "output = df['lifespan']\n",
    "output"
   ]
  },
  {
   "cell_type": "code",
   "execution_count": 46,
   "metadata": {},
   "outputs": [],
   "source": [
    "m = kr.models.Sequential()\n",
    "\n",
    "m.add(kr.layers.Dense(10, input_dim=5, activation=\"linear\"))\n",
    "#m.add(kr.layers.Dense(30, input_dim=5, activation=\"sigmoid\"))\n",
    "m.add(kr.layers.Dense(30, activation=\"linear\"))\n",
    "m.add(kr.layers.Dense(10, activation=\"linear\"))\n",
    "m.add(kr.layers.Dense(10, activation=\"linear\"))\n",
    "m.add(kr.layers.Dense(1,  activation=\"linear\"))\n",
    "\n",
    "m.compile(loss=\"mean_squared_error\", optimizer=\"adam\")"
   ]
  },
  {
   "cell_type": "code",
   "execution_count": 47,
   "metadata": {},
   "outputs": [
    {
     "name": "stdout",
     "output_type": "stream",
     "text": [
      "Epoch 1/10\n",
      "100/100 [==============================] - 0s 1ms/step - loss: 63.0382\n",
      "Epoch 2/10\n",
      "100/100 [==============================] - 0s 190us/step - loss: 30.0819\n",
      "Epoch 3/10\n",
      "100/100 [==============================] - 0s 200us/step - loss: 20.0520\n",
      "Epoch 4/10\n",
      "100/100 [==============================] - 0s 210us/step - loss: 14.3665\n",
      "Epoch 5/10\n",
      "100/100 [==============================] - 0s 220us/step - loss: 12.0730\n",
      "Epoch 6/10\n",
      "100/100 [==============================] - 0s 200us/step - loss: 11.6495\n",
      "Epoch 7/10\n",
      "100/100 [==============================] - 0s 210us/step - loss: 10.5554\n",
      "Epoch 8/10\n",
      "100/100 [==============================] - 0s 200us/step - loss: 10.1424\n",
      "Epoch 9/10\n",
      "100/100 [==============================] - 0s 190us/step - loss: 9.9740\n",
      "Epoch 10/10\n",
      "100/100 [==============================] - 0s 210us/step - loss: 9.7576\n"
     ]
    },
    {
     "data": {
      "text/plain": [
       "<keras.callbacks.callbacks.History at 0x14a2bbed048>"
      ]
     },
     "execution_count": 47,
     "metadata": {},
     "output_type": "execute_result"
    }
   ],
   "source": [
    "m.fit(inputs, output, epochs=10, batch_size=10)"
   ]
  },
  {
   "cell_type": "code",
   "execution_count": 48,
   "metadata": {
    "scrolled": true
   },
   "outputs": [
    {
     "data": {
      "text/plain": [
       "array([[13.476523 ],\n",
       "       [18.55334  ],\n",
       "       [17.502335 ],\n",
       "       [15.611809 ],\n",
       "       [14.864271 ],\n",
       "       [ 6.0128922],\n",
       "       [13.07029  ],\n",
       "       [12.002965 ],\n",
       "       [12.280859 ],\n",
       "       [12.132752 ],\n",
       "       [13.639253 ],\n",
       "       [16.524067 ],\n",
       "       [ 8.607734 ],\n",
       "       [14.347007 ],\n",
       "       [11.422089 ],\n",
       "       [14.94438  ],\n",
       "       [11.676466 ],\n",
       "       [11.11404  ],\n",
       "       [ 8.575901 ],\n",
       "       [12.778757 ],\n",
       "       [ 9.477356 ],\n",
       "       [ 9.552375 ],\n",
       "       [12.311485 ],\n",
       "       [11.236767 ],\n",
       "       [13.934259 ],\n",
       "       [13.672296 ],\n",
       "       [11.338783 ],\n",
       "       [12.125227 ],\n",
       "       [10.203859 ],\n",
       "       [10.528301 ],\n",
       "       [11.04338  ],\n",
       "       [10.52457  ],\n",
       "       [ 9.042562 ],\n",
       "       [13.827157 ],\n",
       "       [ 8.379091 ],\n",
       "       [ 9.133368 ],\n",
       "       [15.2446575],\n",
       "       [10.818372 ],\n",
       "       [12.910782 ],\n",
       "       [11.684388 ],\n",
       "       [10.761657 ],\n",
       "       [13.331409 ],\n",
       "       [ 8.621158 ],\n",
       "       [15.761568 ],\n",
       "       [11.919111 ],\n",
       "       [14.196828 ],\n",
       "       [11.67553  ],\n",
       "       [12.081637 ],\n",
       "       [ 9.372078 ],\n",
       "       [ 8.997809 ],\n",
       "       [16.855833 ],\n",
       "       [ 8.209104 ],\n",
       "       [ 9.032145 ],\n",
       "       [11.08313  ],\n",
       "       [14.109141 ],\n",
       "       [13.293581 ],\n",
       "       [12.406672 ],\n",
       "       [12.760706 ],\n",
       "       [11.806641 ],\n",
       "       [ 8.310651 ],\n",
       "       [ 8.854435 ],\n",
       "       [17.103996 ],\n",
       "       [13.301929 ],\n",
       "       [12.40443  ],\n",
       "       [10.94137  ],\n",
       "       [14.00121  ],\n",
       "       [ 1.089948 ],\n",
       "       [13.207596 ],\n",
       "       [15.685915 ],\n",
       "       [13.22756  ],\n",
       "       [ 9.74485  ],\n",
       "       [14.0092535],\n",
       "       [ 7.63478  ],\n",
       "       [13.637214 ],\n",
       "       [ 5.1378307],\n",
       "       [13.181284 ],\n",
       "       [10.45496  ],\n",
       "       [10.410861 ],\n",
       "       [10.754501 ],\n",
       "       [11.469197 ],\n",
       "       [ 9.152495 ],\n",
       "       [16.528896 ],\n",
       "       [15.173189 ],\n",
       "       [ 8.793495 ],\n",
       "       [13.584778 ],\n",
       "       [16.549961 ],\n",
       "       [11.654415 ],\n",
       "       [12.29916  ],\n",
       "       [15.110454 ],\n",
       "       [12.666479 ],\n",
       "       [15.632541 ],\n",
       "       [16.03889  ],\n",
       "       [12.192357 ],\n",
       "       [11.91465  ],\n",
       "       [10.672951 ],\n",
       "       [11.109488 ],\n",
       "       [10.453564 ],\n",
       "       [12.194789 ],\n",
       "       [14.0413475],\n",
       "       [13.968225 ]], dtype=float32)"
      ]
     },
     "execution_count": 48,
     "metadata": {},
     "output_type": "execute_result"
    }
   ],
   "source": [
    "m.predict(inputs)"
   ]
  },
  {
   "cell_type": "code",
   "execution_count": 49,
   "metadata": {},
   "outputs": [
    {
     "name": "stderr",
     "output_type": "stream",
     "text": [
      "C:\\Users\\Ger\\Ana\\lib\\site-packages\\ipykernel_launcher.py:1: FutureWarning: Method .as_matrix will be removed in a future version. Use .values instead.\n",
      "  \"\"\"Entry point for launching an IPython kernel.\n"
     ]
    },
    {
     "data": {
      "text/plain": [
       "array([15, 17, 11, 12, 14, 12, 15, 11, 13, 10, 12, 17, 10, 14, 12, 11, 16,\n",
       "       12, 11, 10, 12, 11, 15, 11, 11, 14, 15, 11, 17, 10, 10, 11, 11, 19,\n",
       "        8, 13, 16, 14, 10, 12, 12, 14, 10, 13, 14, 11, 15, 10, 15, 12, 13,\n",
       "       12, 10, 11, 10, 11, 10, 14, 10, 11, 11, 11, 13, 19, 14, 14,  8, 12,\n",
       "       11, 11, 11, 16, 13, 12, 12, 18, 12, 16, 11,  8,  8, 12, 18,  9, 16,\n",
       "       13,  9, 16,  9, 11, 16, 13,  8, 14, 15, 10, 11, 12, 16, 14],\n",
       "      dtype=int64)"
      ]
     },
     "execution_count": 49,
     "metadata": {},
     "output_type": "execute_result"
    }
   ],
   "source": [
    "output.as_matrix()"
   ]
  },
  {
   "cell_type": "code",
   "execution_count": 50,
   "metadata": {},
   "outputs": [
    {
     "data": {
      "text/plain": [
       "array([[13., 19., 18., 16., 15.,  6., 13., 12., 12., 12., 14., 17.,  9.,\n",
       "        14., 11., 15., 12., 11.,  9., 13.,  9., 10., 12., 11., 14., 14.,\n",
       "        11., 12., 10., 11., 11., 11.,  9., 14.,  8.,  9., 15., 11., 13.,\n",
       "        12., 11., 13.,  9., 16., 12., 14., 12., 12.,  9.,  9., 17.,  8.,\n",
       "         9., 11., 14., 13., 12., 13., 12.,  8.,  9., 17., 13., 12., 11.,\n",
       "        14.,  1., 13., 16., 13., 10., 14.,  8., 14.,  5., 13., 10., 10.,\n",
       "        11., 11.,  9., 17., 15.,  9., 14., 17., 12., 12., 15., 13., 16.,\n",
       "        16., 12., 12., 11., 11., 10., 12., 14., 14.]], dtype=float32)"
      ]
     },
     "execution_count": 50,
     "metadata": {},
     "output_type": "execute_result"
    }
   ],
   "source": [
    "np.around(m.predict(inputs).T)"
   ]
  },
  {
   "cell_type": "code",
   "execution_count": 20,
   "metadata": {},
   "outputs": [
    {
     "name": "stderr",
     "output_type": "stream",
     "text": [
      "Using TensorFlow backend.\n"
     ]
    }
   ],
   "source": [
    "import keras as kr"
   ]
  },
  {
   "cell_type": "code",
   "execution_count": 42,
   "metadata": {},
   "outputs": [
    {
     "name": "stderr",
     "output_type": "stream",
     "text": [
      "C:\\Users\\Ger\\Ana\\lib\\site-packages\\ipykernel_launcher.py:1: FutureWarning: Method .as_matrix will be removed in a future version. Use .values instead.\n",
      "  \"\"\"Entry point for launching an IPython kernel.\n"
     ]
    },
    {
     "data": {
      "text/plain": [
       "array([[-2.51367569, -4.57554817,  1.40816307,  0.53562641, -1.48571396,\n",
       "         0.0983696 , -2.89160728,  1.47816086, -0.59658432,  2.31494808,\n",
       "         0.38387966, -4.5782032 ,  2.35458755, -1.49259853,  0.57620811,\n",
       "         1.48417187, -3.55314255,  0.11242962,  1.15917778,  2.59237385,\n",
       "         0.23230553,  1.40810394, -2.77880669,  1.28560543,  1.5423336 ,\n",
       "        -1.53361225, -2.60045624,  1.12203217, -4.53740311,  2.26638031,\n",
       "         2.33882236,  1.53631783,  1.11649323, -6.53336143,  4.30270576,\n",
       "        -0.5171814 , -3.49253654, -1.54105377,  2.6079731 ,  0.37548828,\n",
       "         0.46241093, -1.43777466,  2.15729332, -0.83671188, -1.57990646,\n",
       "         1.18789864, -2.52298737,  2.498312  , -2.83584881,  0.18953323,\n",
       "        -0.47119331,  0.44501209,  2.46442318,  1.20465279,  2.29002571,\n",
       "         1.24141407,  2.29990578, -1.48169899,  2.14923668,  1.24661255,\n",
       "         1.2254715 ,  1.47037506, -0.54045963, -6.62439537, -1.88593197,\n",
       "        -1.5409584 ,  3.06240463,  0.36606598,  1.5834074 ,  1.56848717,\n",
       "         1.38739395, -3.57926559, -0.58627224,  0.60694695,  0.13711929,\n",
       "        -5.52876854,  0.52561569, -3.56450844,  1.193367  ,  4.34392929,\n",
       "         4.22469616,  0.38103485, -5.52159023,  3.26768208, -3.61418533,\n",
       "        -0.58513641,  3.35395432, -3.50151539,  3.55571365,  1.22526073,\n",
       "        -3.66740322, -0.60161972,  4.62542439, -1.80422592, -2.62748337,\n",
       "         2.36569786,  1.350214  ,  0.23151302, -3.50867081, -1.80123901]])"
      ]
     },
     "execution_count": 42,
     "metadata": {},
     "output_type": "execute_result"
    }
   ],
   "source": [
    "m.predict(inputs).T - output.as_matrix()"
   ]
  },
  {
   "cell_type": "code",
   "execution_count": 43,
   "metadata": {},
   "outputs": [
    {
     "name": "stderr",
     "output_type": "stream",
     "text": [
      "C:\\Users\\Ger\\Ana\\lib\\site-packages\\ipykernel_launcher.py:2: FutureWarning: Method .as_matrix will be removed in a future version. Use .values instead.\n",
      "  \n"
     ]
    },
    {
     "data": {
      "text/plain": [
       "25.07687453836791"
      ]
     },
     "execution_count": 43,
     "metadata": {},
     "output_type": "execute_result"
    }
   ],
   "source": [
    "###difference between what the neuron is predicting and the actual values we told it to predict\n",
    "np.sqrt(np.sum((m.predict(inputs).T - output.as_matrix())**2))"
   ]
  },
  {
   "cell_type": "code",
   "execution_count": null,
   "metadata": {},
   "outputs": [],
   "source": []
  }
 ],
 "metadata": {
  "kernelspec": {
   "display_name": "Python 3",
   "language": "python",
   "name": "python3"
  },
  "language_info": {
   "codemirror_mode": {
    "name": "ipython",
    "version": 3
   },
   "file_extension": ".py",
   "mimetype": "text/x-python",
   "name": "python",
   "nbconvert_exporter": "python",
   "pygments_lexer": "ipython3",
   "version": "3.7.4"
  }
 },
 "nbformat": 4,
 "nbformat_minor": 2
}
